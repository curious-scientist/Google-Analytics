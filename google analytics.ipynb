{
 "cells": [
  {
   "cell_type": "code",
   "execution_count": 1,
   "metadata": {},
   "outputs": [],
   "source": [
    "### Necessary libraries\n",
    "import pandas as pd\n",
    "import numpy as np\n",
    "import matplotlib.pyplot as plt\n",
    "import seaborn as sns\n",
    "from sklearn.tree import export_graphviz\n",
    "from sklearn import tree\n",
    "from sklearn.model_selection import train_test_split\n",
    "from datetime import datetime\n",
    "### Seaborn style\n",
    "sns.set_style(\"whitegrid\")"
   ]
  },
  {
   "cell_type": "code",
   "execution_count": 2,
   "metadata": {
    "scrolled": true
   },
   "outputs": [
    {
     "name": "stderr",
     "output_type": "stream",
     "text": [
      "C:\\ProgramData\\Anaconda3\\lib\\site-packages\\IPython\\core\\interactiveshell.py:3049: DtypeWarning: Columns (0) have mixed types. Specify dtype option on import or set low_memory=False.\n",
      "  interactivity=interactivity, compiler=compiler, result=result)\n"
     ]
    }
   ],
   "source": [
    "### Let's import our data\n",
    "train_data = pd.read_csv(r'C:\\Users\\manaswini.nayak\\Downloads\\sample_user_data.csv',index_col='fullVisitorId')\n",
    "\n"
   ]
  },
  {
   "cell_type": "code",
   "execution_count": 3,
   "metadata": {},
   "outputs": [],
   "source": [
    "train_data.drop('device_mobileDeviceModel',  axis=1 , inplace = True)"
   ]
  },
  {
   "cell_type": "code",
   "execution_count": 4,
   "metadata": {
    "scrolled": true
   },
   "outputs": [
    {
     "data": {
      "text/html": [
       "<div>\n",
       "<style scoped>\n",
       "    .dataframe tbody tr th:only-of-type {\n",
       "        vertical-align: middle;\n",
       "    }\n",
       "\n",
       "    .dataframe tbody tr th {\n",
       "        vertical-align: top;\n",
       "    }\n",
       "\n",
       "    .dataframe thead th {\n",
       "        text-align: right;\n",
       "    }\n",
       "</style>\n",
       "<table border=\"1\" class=\"dataframe\">\n",
       "  <thead>\n",
       "    <tr style=\"text-align: right;\">\n",
       "      <th></th>\n",
       "      <th>visitNumber</th>\n",
       "      <th>date</th>\n",
       "      <th>visitStartTime</th>\n",
       "      <th>totals_bounces</th>\n",
       "      <th>totals_pageviews</th>\n",
       "      <th>totals_timeOnSite</th>\n",
       "      <th>totals_totalTransactionRevenue</th>\n",
       "      <th>totals_transactions</th>\n",
       "      <th>trafficSource_source</th>\n",
       "      <th>trafficSource_medium</th>\n",
       "      <th>trafficSource_campaign</th>\n",
       "      <th>device_deviceCategory</th>\n",
       "      <th>device_operatingSystem</th>\n",
       "      <th>geoNetwork_city</th>\n",
       "      <th>channelGrouping</th>\n",
       "    </tr>\n",
       "    <tr>\n",
       "      <th>fullVisitorId</th>\n",
       "      <th></th>\n",
       "      <th></th>\n",
       "      <th></th>\n",
       "      <th></th>\n",
       "      <th></th>\n",
       "      <th></th>\n",
       "      <th></th>\n",
       "      <th></th>\n",
       "      <th></th>\n",
       "      <th></th>\n",
       "      <th></th>\n",
       "      <th></th>\n",
       "      <th></th>\n",
       "      <th></th>\n",
       "      <th></th>\n",
       "    </tr>\n",
       "  </thead>\n",
       "  <tbody>\n",
       "    <tr>\n",
       "      <th>27376579751715</th>\n",
       "      <td>1</td>\n",
       "      <td>20170211</td>\n",
       "      <td>1486866293</td>\n",
       "      <td>NaN</td>\n",
       "      <td>5.0</td>\n",
       "      <td>49.0</td>\n",
       "      <td>NaN</td>\n",
       "      <td>NaN</td>\n",
       "      <td>(direct)</td>\n",
       "      <td>(none)</td>\n",
       "      <td>(not set)</td>\n",
       "      <td>desktop</td>\n",
       "      <td>Macintosh</td>\n",
       "      <td>not available in demo dataset</td>\n",
       "      <td>Organic Search</td>\n",
       "    </tr>\n",
       "    <tr>\n",
       "      <th>39460501403861</th>\n",
       "      <td>1</td>\n",
       "      <td>20170327</td>\n",
       "      <td>1490629516</td>\n",
       "      <td>NaN</td>\n",
       "      <td>2.0</td>\n",
       "      <td>99.0</td>\n",
       "      <td>NaN</td>\n",
       "      <td>NaN</td>\n",
       "      <td>youtube.com</td>\n",
       "      <td>referral</td>\n",
       "      <td>(not set)</td>\n",
       "      <td>desktop</td>\n",
       "      <td>Windows</td>\n",
       "      <td>not available in demo dataset</td>\n",
       "      <td>Social</td>\n",
       "    </tr>\n",
       "    <tr>\n",
       "      <th>40862739425590</th>\n",
       "      <td>1</td>\n",
       "      <td>20170211</td>\n",
       "      <td>1486836571</td>\n",
       "      <td>NaN</td>\n",
       "      <td>2.0</td>\n",
       "      <td>14.0</td>\n",
       "      <td>NaN</td>\n",
       "      <td>NaN</td>\n",
       "      <td>(direct)</td>\n",
       "      <td>(none)</td>\n",
       "      <td>(not set)</td>\n",
       "      <td>desktop</td>\n",
       "      <td>Macintosh</td>\n",
       "      <td>Oakland</td>\n",
       "      <td>Paid Search</td>\n",
       "    </tr>\n",
       "    <tr>\n",
       "      <th>40862739425590</th>\n",
       "      <td>2</td>\n",
       "      <td>20170211</td>\n",
       "      <td>1486838824</td>\n",
       "      <td>NaN</td>\n",
       "      <td>3.0</td>\n",
       "      <td>35.0</td>\n",
       "      <td>NaN</td>\n",
       "      <td>NaN</td>\n",
       "      <td>(direct)</td>\n",
       "      <td>(none)</td>\n",
       "      <td>(not set)</td>\n",
       "      <td>desktop</td>\n",
       "      <td>Macintosh</td>\n",
       "      <td>Oakland</td>\n",
       "      <td>Paid Search</td>\n",
       "    </tr>\n",
       "    <tr>\n",
       "      <th>62267706107999</th>\n",
       "      <td>1</td>\n",
       "      <td>20170709</td>\n",
       "      <td>1499645960</td>\n",
       "      <td>1.0</td>\n",
       "      <td>1.0</td>\n",
       "      <td>NaN</td>\n",
       "      <td>NaN</td>\n",
       "      <td>NaN</td>\n",
       "      <td>Partners</td>\n",
       "      <td>affiliate</td>\n",
       "      <td>Data Share Promo</td>\n",
       "      <td>desktop</td>\n",
       "      <td>Windows</td>\n",
       "      <td>not available in demo dataset</td>\n",
       "      <td>Affiliates</td>\n",
       "    </tr>\n",
       "  </tbody>\n",
       "</table>\n",
       "</div>"
      ],
      "text/plain": [
       "                visitNumber      date  visitStartTime  totals_bounces  \\\n",
       "fullVisitorId                                                           \n",
       "27376579751715            1  20170211      1486866293             NaN   \n",
       "39460501403861            1  20170327      1490629516             NaN   \n",
       "40862739425590            1  20170211      1486836571             NaN   \n",
       "40862739425590            2  20170211      1486838824             NaN   \n",
       "62267706107999            1  20170709      1499645960             1.0   \n",
       "\n",
       "                totals_pageviews  totals_timeOnSite  \\\n",
       "fullVisitorId                                         \n",
       "27376579751715               5.0               49.0   \n",
       "39460501403861               2.0               99.0   \n",
       "40862739425590               2.0               14.0   \n",
       "40862739425590               3.0               35.0   \n",
       "62267706107999               1.0                NaN   \n",
       "\n",
       "                totals_totalTransactionRevenue  totals_transactions  \\\n",
       "fullVisitorId                                                         \n",
       "27376579751715                             NaN                  NaN   \n",
       "39460501403861                             NaN                  NaN   \n",
       "40862739425590                             NaN                  NaN   \n",
       "40862739425590                             NaN                  NaN   \n",
       "62267706107999                             NaN                  NaN   \n",
       "\n",
       "               trafficSource_source trafficSource_medium  \\\n",
       "fullVisitorId                                              \n",
       "27376579751715             (direct)               (none)   \n",
       "39460501403861          youtube.com             referral   \n",
       "40862739425590             (direct)               (none)   \n",
       "40862739425590             (direct)               (none)   \n",
       "62267706107999             Partners            affiliate   \n",
       "\n",
       "               trafficSource_campaign device_deviceCategory  \\\n",
       "fullVisitorId                                                 \n",
       "27376579751715              (not set)               desktop   \n",
       "39460501403861              (not set)               desktop   \n",
       "40862739425590              (not set)               desktop   \n",
       "40862739425590              (not set)               desktop   \n",
       "62267706107999       Data Share Promo               desktop   \n",
       "\n",
       "               device_operatingSystem                geoNetwork_city  \\\n",
       "fullVisitorId                                                          \n",
       "27376579751715              Macintosh  not available in demo dataset   \n",
       "39460501403861                Windows  not available in demo dataset   \n",
       "40862739425590              Macintosh                        Oakland   \n",
       "40862739425590              Macintosh                        Oakland   \n",
       "62267706107999                Windows  not available in demo dataset   \n",
       "\n",
       "               channelGrouping  \n",
       "fullVisitorId                   \n",
       "27376579751715  Organic Search  \n",
       "39460501403861          Social  \n",
       "40862739425590     Paid Search  \n",
       "40862739425590     Paid Search  \n",
       "62267706107999      Affiliates  "
      ]
     },
     "execution_count": 4,
     "metadata": {},
     "output_type": "execute_result"
    }
   ],
   "source": [
    "### and test if everything OK\n",
    "train_data.head()"
   ]
  },
  {
   "cell_type": "code",
   "execution_count": 5,
   "metadata": {
    "scrolled": false
   },
   "outputs": [
    {
     "data": {
      "text/plain": [
       "visitNumber                            0\n",
       "date                                   0\n",
       "visitStartTime                         0\n",
       "totals_bounces                    232332\n",
       "totals_pageviews                      52\n",
       "totals_timeOnSite                 233021\n",
       "totals_totalTransactionRevenue    458396\n",
       "totals_transactions               458396\n",
       "trafficSource_source                   0\n",
       "trafficSource_medium                   0\n",
       "trafficSource_campaign                 0\n",
       "device_deviceCategory                  0\n",
       "device_operatingSystem                 0\n",
       "geoNetwork_city                        0\n",
       "channelGrouping                        0\n",
       "dtype: int64"
      ]
     },
     "execution_count": 5,
     "metadata": {},
     "output_type": "execute_result"
    }
   ],
   "source": [
    "train_data.isnull().sum()"
   ]
  },
  {
   "cell_type": "code",
   "execution_count": 6,
   "metadata": {},
   "outputs": [],
   "source": [
    "#date field feature extraction\n",
    "train_data['date'] = pd.to_datetime(train_data.date,format='%Y%m%d')"
   ]
  },
  {
   "cell_type": "code",
   "execution_count": 7,
   "metadata": {},
   "outputs": [],
   "source": [
    "train_data['month of visit'] = train_data['date'].dt.month"
   ]
  },
  {
   "cell_type": "code",
   "execution_count": 8,
   "metadata": {},
   "outputs": [],
   "source": [
    "def applyer(row):\n",
    "    if row.dayofweek == 5 or row.dayofweek == 6:\n",
    "        return 1\n",
    "    else:\n",
    "        return 0 \n",
    "temp2 = train_data['date'].apply(applyer) \n",
    "train_data['weekend visit']=temp2"
   ]
  },
  {
   "cell_type": "code",
   "execution_count": 9,
   "metadata": {},
   "outputs": [],
   "source": [
    "import datetime\n",
    "train_data['totals_bounces'] = datetime.datetime.utcfromtimestamp(1486866293).hour"
   ]
  },
  {
   "cell_type": "code",
   "execution_count": 10,
   "metadata": {},
   "outputs": [],
   "source": [
    "#imputation of non-bounced session\n",
    "train_data['totals_bounces'] = train_data['totals_bounces'].fillna(0)"
   ]
  },
  {
   "cell_type": "code",
   "execution_count": 11,
   "metadata": {},
   "outputs": [],
   "source": [
    "import datetime\n",
    "train_data['visit hour'] = train_data['visitStartTime'].apply(lambda x : datetime.datetime.utcfromtimestamp(x).hour)"
   ]
  },
  {
   "cell_type": "code",
   "execution_count": 12,
   "metadata": {},
   "outputs": [],
   "source": [
    "train_data = train_data.dropna(axis=0, subset=['totals_pageviews']) "
   ]
  },
  {
   "cell_type": "code",
   "execution_count": 13,
   "metadata": {
    "scrolled": true
   },
   "outputs": [
    {
     "data": {
      "text/html": [
       "<div>\n",
       "<style scoped>\n",
       "    .dataframe tbody tr th:only-of-type {\n",
       "        vertical-align: middle;\n",
       "    }\n",
       "\n",
       "    .dataframe tbody tr th {\n",
       "        vertical-align: top;\n",
       "    }\n",
       "\n",
       "    .dataframe thead th {\n",
       "        text-align: right;\n",
       "    }\n",
       "</style>\n",
       "<table border=\"1\" class=\"dataframe\">\n",
       "  <thead>\n",
       "    <tr style=\"text-align: right;\">\n",
       "      <th></th>\n",
       "      <th>visitNumber</th>\n",
       "      <th>date</th>\n",
       "      <th>visitStartTime</th>\n",
       "      <th>totals_bounces</th>\n",
       "      <th>totals_pageviews</th>\n",
       "      <th>totals_timeOnSite</th>\n",
       "      <th>totals_totalTransactionRevenue</th>\n",
       "      <th>totals_transactions</th>\n",
       "      <th>trafficSource_source</th>\n",
       "      <th>trafficSource_medium</th>\n",
       "      <th>trafficSource_campaign</th>\n",
       "      <th>device_deviceCategory</th>\n",
       "      <th>device_operatingSystem</th>\n",
       "      <th>geoNetwork_city</th>\n",
       "      <th>channelGrouping</th>\n",
       "      <th>month of visit</th>\n",
       "      <th>weekend visit</th>\n",
       "      <th>visit hour</th>\n",
       "    </tr>\n",
       "    <tr>\n",
       "      <th>fullVisitorId</th>\n",
       "      <th></th>\n",
       "      <th></th>\n",
       "      <th></th>\n",
       "      <th></th>\n",
       "      <th></th>\n",
       "      <th></th>\n",
       "      <th></th>\n",
       "      <th></th>\n",
       "      <th></th>\n",
       "      <th></th>\n",
       "      <th></th>\n",
       "      <th></th>\n",
       "      <th></th>\n",
       "      <th></th>\n",
       "      <th></th>\n",
       "      <th></th>\n",
       "      <th></th>\n",
       "      <th></th>\n",
       "    </tr>\n",
       "  </thead>\n",
       "  <tbody>\n",
       "    <tr>\n",
       "      <th>62267706107999</th>\n",
       "      <td>1</td>\n",
       "      <td>2017-07-09</td>\n",
       "      <td>1499645960</td>\n",
       "      <td>2</td>\n",
       "      <td>1.0</td>\n",
       "      <td>NaN</td>\n",
       "      <td>NaN</td>\n",
       "      <td>NaN</td>\n",
       "      <td>Partners</td>\n",
       "      <td>affiliate</td>\n",
       "      <td>Data Share Promo</td>\n",
       "      <td>desktop</td>\n",
       "      <td>Windows</td>\n",
       "      <td>not available in demo dataset</td>\n",
       "      <td>Affiliates</td>\n",
       "      <td>7</td>\n",
       "      <td>1</td>\n",
       "      <td>0</td>\n",
       "    </tr>\n",
       "    <tr>\n",
       "      <th>85059828173212</th>\n",
       "      <td>1</td>\n",
       "      <td>2017-07-19</td>\n",
       "      <td>1500505105</td>\n",
       "      <td>2</td>\n",
       "      <td>1.0</td>\n",
       "      <td>NaN</td>\n",
       "      <td>NaN</td>\n",
       "      <td>NaN</td>\n",
       "      <td>(direct)</td>\n",
       "      <td>(none)</td>\n",
       "      <td>(not set)</td>\n",
       "      <td>mobile</td>\n",
       "      <td>iOS</td>\n",
       "      <td>Chicago</td>\n",
       "      <td>Direct</td>\n",
       "      <td>7</td>\n",
       "      <td>0</td>\n",
       "      <td>22</td>\n",
       "    </tr>\n",
       "    <tr>\n",
       "      <th>176652019531658</th>\n",
       "      <td>1</td>\n",
       "      <td>2017-01-16</td>\n",
       "      <td>1484597865</td>\n",
       "      <td>2</td>\n",
       "      <td>1.0</td>\n",
       "      <td>NaN</td>\n",
       "      <td>NaN</td>\n",
       "      <td>NaN</td>\n",
       "      <td>youtube.com</td>\n",
       "      <td>referral</td>\n",
       "      <td>(not set)</td>\n",
       "      <td>desktop</td>\n",
       "      <td>Linux</td>\n",
       "      <td>not available in demo dataset</td>\n",
       "      <td>Social</td>\n",
       "      <td>1</td>\n",
       "      <td>0</td>\n",
       "      <td>20</td>\n",
       "    </tr>\n",
       "    <tr>\n",
       "      <th>197671390269035</th>\n",
       "      <td>1</td>\n",
       "      <td>2017-05-02</td>\n",
       "      <td>1493772870</td>\n",
       "      <td>2</td>\n",
       "      <td>1.0</td>\n",
       "      <td>NaN</td>\n",
       "      <td>NaN</td>\n",
       "      <td>NaN</td>\n",
       "      <td>m.facebook.com</td>\n",
       "      <td>referral</td>\n",
       "      <td>(not set)</td>\n",
       "      <td>mobile</td>\n",
       "      <td>Android</td>\n",
       "      <td>not available in demo dataset</td>\n",
       "      <td>Social</td>\n",
       "      <td>5</td>\n",
       "      <td>0</td>\n",
       "      <td>0</td>\n",
       "    </tr>\n",
       "    <tr>\n",
       "      <th>450371054833295</th>\n",
       "      <td>1</td>\n",
       "      <td>2017-07-17</td>\n",
       "      <td>1500303787</td>\n",
       "      <td>2</td>\n",
       "      <td>1.0</td>\n",
       "      <td>NaN</td>\n",
       "      <td>NaN</td>\n",
       "      <td>NaN</td>\n",
       "      <td>sites.google.com</td>\n",
       "      <td>referral</td>\n",
       "      <td>(not set)</td>\n",
       "      <td>desktop</td>\n",
       "      <td>Linux</td>\n",
       "      <td>New York</td>\n",
       "      <td>Referral</td>\n",
       "      <td>7</td>\n",
       "      <td>0</td>\n",
       "      <td>15</td>\n",
       "    </tr>\n",
       "  </tbody>\n",
       "</table>\n",
       "</div>"
      ],
      "text/plain": [
       "                 visitNumber       date  visitStartTime  totals_bounces  \\\n",
       "fullVisitorId                                                             \n",
       "62267706107999             1 2017-07-09      1499645960               2   \n",
       "85059828173212             1 2017-07-19      1500505105               2   \n",
       "176652019531658            1 2017-01-16      1484597865               2   \n",
       "197671390269035            1 2017-05-02      1493772870               2   \n",
       "450371054833295            1 2017-07-17      1500303787               2   \n",
       "\n",
       "                 totals_pageviews  totals_timeOnSite  \\\n",
       "fullVisitorId                                          \n",
       "62267706107999                1.0                NaN   \n",
       "85059828173212                1.0                NaN   \n",
       "176652019531658               1.0                NaN   \n",
       "197671390269035               1.0                NaN   \n",
       "450371054833295               1.0                NaN   \n",
       "\n",
       "                 totals_totalTransactionRevenue  totals_transactions  \\\n",
       "fullVisitorId                                                          \n",
       "62267706107999                              NaN                  NaN   \n",
       "85059828173212                              NaN                  NaN   \n",
       "176652019531658                             NaN                  NaN   \n",
       "197671390269035                             NaN                  NaN   \n",
       "450371054833295                             NaN                  NaN   \n",
       "\n",
       "                trafficSource_source trafficSource_medium  \\\n",
       "fullVisitorId                                               \n",
       "62267706107999              Partners            affiliate   \n",
       "85059828173212              (direct)               (none)   \n",
       "176652019531658          youtube.com             referral   \n",
       "197671390269035       m.facebook.com             referral   \n",
       "450371054833295     sites.google.com             referral   \n",
       "\n",
       "                trafficSource_campaign device_deviceCategory  \\\n",
       "fullVisitorId                                                  \n",
       "62267706107999        Data Share Promo               desktop   \n",
       "85059828173212               (not set)                mobile   \n",
       "176652019531658              (not set)               desktop   \n",
       "197671390269035              (not set)                mobile   \n",
       "450371054833295              (not set)               desktop   \n",
       "\n",
       "                device_operatingSystem                geoNetwork_city  \\\n",
       "fullVisitorId                                                           \n",
       "62267706107999                 Windows  not available in demo dataset   \n",
       "85059828173212                     iOS                        Chicago   \n",
       "176652019531658                  Linux  not available in demo dataset   \n",
       "197671390269035                Android  not available in demo dataset   \n",
       "450371054833295                  Linux                       New York   \n",
       "\n",
       "                channelGrouping  month of visit  weekend visit  visit hour  \n",
       "fullVisitorId                                                               \n",
       "62267706107999       Affiliates               7              1           0  \n",
       "85059828173212           Direct               7              0          22  \n",
       "176652019531658          Social               1              0          20  \n",
       "197671390269035          Social               5              0           0  \n",
       "450371054833295        Referral               7              0          15  "
      ]
     },
     "execution_count": 13,
     "metadata": {},
     "output_type": "execute_result"
    }
   ],
   "source": [
    "train_data[train_data.totals_timeOnSite.isna()].head(5)"
   ]
  },
  {
   "cell_type": "code",
   "execution_count": 14,
   "metadata": {
    "scrolled": true
   },
   "outputs": [
    {
     "data": {
      "text/plain": [
       "array([nan])"
      ]
     },
     "execution_count": 14,
     "metadata": {},
     "output_type": "execute_result"
    }
   ],
   "source": [
    "train_data[\"totals_totalTransactionRevenue\"][train_data.totals_transactions.isna()].unique()"
   ]
  },
  {
   "cell_type": "code",
   "execution_count": 15,
   "metadata": {
    "scrolled": true
   },
   "outputs": [
    {
     "data": {
      "text/plain": [
       "array([  49.,   99.,   14., ..., 3995., 4471., 2484.])"
      ]
     },
     "execution_count": 15,
     "metadata": {},
     "output_type": "execute_result"
    }
   ],
   "source": [
    "train_data[\"totals_timeOnSite\"][train_data.totals_transactions.isna()].unique()"
   ]
  },
  {
   "cell_type": "code",
   "execution_count": 16,
   "metadata": {},
   "outputs": [],
   "source": [
    "#imputation of no transaction\n",
    "train_data['totals_totalTransactionRevenue'] = train_data['totals_totalTransactionRevenue'].fillna(0)"
   ]
  },
  {
   "cell_type": "code",
   "execution_count": 17,
   "metadata": {},
   "outputs": [],
   "source": [
    "#imputation of no transactions\n",
    "train_data['totals_transactions'] = train_data['totals_transactions'].fillna(0)"
   ]
  },
  {
   "cell_type": "code",
   "execution_count": 18,
   "metadata": {},
   "outputs": [],
   "source": [
    "# model to impute  totals_timeOnSite"
   ]
  },
  {
   "cell_type": "code",
   "execution_count": 19,
   "metadata": {},
   "outputs": [],
   "source": [
    "train_impute = train_data.copy()"
   ]
  },
  {
   "cell_type": "code",
   "execution_count": 20,
   "metadata": {
    "scrolled": false
   },
   "outputs": [
    {
     "name": "stdout",
     "output_type": "stream",
     "text": [
      "<class 'pandas.core.frame.DataFrame'>\n",
      "Index: 464652 entries, 27376579751715 to 9999986437109498564\n",
      "Data columns (total 18 columns):\n",
      "visitNumber                       464652 non-null int64\n",
      "date                              464652 non-null datetime64[ns]\n",
      "visitStartTime                    464652 non-null int64\n",
      "totals_bounces                    464652 non-null int64\n",
      "totals_pageviews                  464652 non-null float64\n",
      "totals_timeOnSite                 231668 non-null float64\n",
      "totals_totalTransactionRevenue    464652 non-null float64\n",
      "totals_transactions               464652 non-null float64\n",
      "trafficSource_source              464652 non-null object\n",
      "trafficSource_medium              464652 non-null object\n",
      "trafficSource_campaign            464652 non-null object\n",
      "device_deviceCategory             464652 non-null object\n",
      "device_operatingSystem            464652 non-null object\n",
      "geoNetwork_city                   464652 non-null object\n",
      "channelGrouping                   464652 non-null object\n",
      "month of visit                    464652 non-null int64\n",
      "weekend visit                     464652 non-null int64\n",
      "visit hour                        464652 non-null int64\n",
      "dtypes: datetime64[ns](1), float64(4), int64(6), object(7)\n",
      "memory usage: 67.4+ MB\n"
     ]
    }
   ],
   "source": [
    "train_impute.info()"
   ]
  },
  {
   "cell_type": "code",
   "execution_count": 21,
   "metadata": {},
   "outputs": [],
   "source": [
    "train_impute.dropna(inplace = True)"
   ]
  },
  {
   "cell_type": "code",
   "execution_count": 22,
   "metadata": {},
   "outputs": [],
   "source": [
    "X = train_impute.loc[ : , (\"visitNumber\" ,\"totals_bounces\" , \"totals_pageviews\" , \"totals_totalTransactionRevenue\" , \"totals_transactions\")].values"
   ]
  },
  {
   "cell_type": "code",
   "execution_count": 23,
   "metadata": {},
   "outputs": [],
   "source": [
    "y = train_impute.loc[: , \"totals_timeOnSite\"].values"
   ]
  },
  {
   "cell_type": "code",
   "execution_count": 24,
   "metadata": {
    "scrolled": true
   },
   "outputs": [
    {
     "data": {
      "text/plain": [
       "LinearRegression(copy_X=True, fit_intercept=True, n_jobs=None, normalize=False)"
      ]
     },
     "execution_count": 24,
     "metadata": {},
     "output_type": "execute_result"
    }
   ],
   "source": [
    "from sklearn.linear_model import LinearRegression \n",
    "regressor = LinearRegression()\n",
    "regressor.fit(X, y)"
   ]
  },
  {
   "cell_type": "code",
   "execution_count": null,
   "metadata": {},
   "outputs": [],
   "source": []
  },
  {
   "cell_type": "code",
   "execution_count": 25,
   "metadata": {
    "scrolled": true
   },
   "outputs": [],
   "source": [
    "X = train_data.loc[:, (\"visitNumber\" ,\"totals_bounces\" , \"totals_pageviews\" , \"totals_totalTransactionRevenue\" , \"totals_transactions\")].values\n",
    "y = regressor.predict(X)"
   ]
  },
  {
   "cell_type": "code",
   "execution_count": 26,
   "metadata": {},
   "outputs": [],
   "source": [
    "def replace_nan(x):\n",
    "    if np.isnan(x['totals_timeOnSite']):\n",
    "            return  float(regressor.predict(np.array(x[[\"visitNumber\" ,\"totals_bounces\" , \"totals_pageviews\" , \"totals_totalTransactionRevenue\" , \"totals_transactions\"]]).reshape(1, -1)))\n",
    "    else:\n",
    "            return  x['totals_timeOnSite']\n",
    "        "
   ]
  },
  {
   "cell_type": "code",
   "execution_count": 27,
   "metadata": {},
   "outputs": [],
   "source": [
    "train_data['totals_timeOnSite'] = train_data.apply(lambda x:replace_nan(x) ,axis = 1)"
   ]
  },
  {
   "cell_type": "code",
   "execution_count": 28,
   "metadata": {},
   "outputs": [],
   "source": [
    "df = train_data.copy()"
   ]
  },
  {
   "cell_type": "code",
   "execution_count": 29,
   "metadata": {},
   "outputs": [],
   "source": [
    "df[\"Transaction\"] = df[\"totals_transactions\"] > 0\n"
   ]
  },
  {
   "cell_type": "code",
   "execution_count": 30,
   "metadata": {},
   "outputs": [],
   "source": [
    "train_data[\"Transaction\"] = train_data[\"totals_transactions\"] > 0"
   ]
  },
  {
   "cell_type": "markdown",
   "metadata": {},
   "source": [
    "##EXPLORATORY DATA ANALYSIS"
   ]
  },
  {
   "cell_type": "code",
   "execution_count": 31,
   "metadata": {},
   "outputs": [
    {
     "data": {
      "text/html": [
       "<div>\n",
       "<style scoped>\n",
       "    .dataframe tbody tr th:only-of-type {\n",
       "        vertical-align: middle;\n",
       "    }\n",
       "\n",
       "    .dataframe tbody tr th {\n",
       "        vertical-align: top;\n",
       "    }\n",
       "\n",
       "    .dataframe thead th {\n",
       "        text-align: right;\n",
       "    }\n",
       "</style>\n",
       "<table border=\"1\" class=\"dataframe\">\n",
       "  <thead>\n",
       "    <tr style=\"text-align: right;\">\n",
       "      <th></th>\n",
       "      <th>0</th>\n",
       "    </tr>\n",
       "  </thead>\n",
       "  <tbody>\n",
       "    <tr>\n",
       "      <th>visitNumber</th>\n",
       "      <td>int64</td>\n",
       "    </tr>\n",
       "    <tr>\n",
       "      <th>date</th>\n",
       "      <td>datetime64[ns]</td>\n",
       "    </tr>\n",
       "    <tr>\n",
       "      <th>visitStartTime</th>\n",
       "      <td>int64</td>\n",
       "    </tr>\n",
       "    <tr>\n",
       "      <th>totals_bounces</th>\n",
       "      <td>int64</td>\n",
       "    </tr>\n",
       "    <tr>\n",
       "      <th>totals_pageviews</th>\n",
       "      <td>float64</td>\n",
       "    </tr>\n",
       "    <tr>\n",
       "      <th>totals_timeOnSite</th>\n",
       "      <td>float64</td>\n",
       "    </tr>\n",
       "    <tr>\n",
       "      <th>totals_totalTransactionRevenue</th>\n",
       "      <td>float64</td>\n",
       "    </tr>\n",
       "    <tr>\n",
       "      <th>totals_transactions</th>\n",
       "      <td>float64</td>\n",
       "    </tr>\n",
       "    <tr>\n",
       "      <th>trafficSource_source</th>\n",
       "      <td>object</td>\n",
       "    </tr>\n",
       "    <tr>\n",
       "      <th>trafficSource_medium</th>\n",
       "      <td>object</td>\n",
       "    </tr>\n",
       "    <tr>\n",
       "      <th>trafficSource_campaign</th>\n",
       "      <td>object</td>\n",
       "    </tr>\n",
       "    <tr>\n",
       "      <th>device_deviceCategory</th>\n",
       "      <td>object</td>\n",
       "    </tr>\n",
       "    <tr>\n",
       "      <th>device_operatingSystem</th>\n",
       "      <td>object</td>\n",
       "    </tr>\n",
       "    <tr>\n",
       "      <th>geoNetwork_city</th>\n",
       "      <td>object</td>\n",
       "    </tr>\n",
       "    <tr>\n",
       "      <th>channelGrouping</th>\n",
       "      <td>object</td>\n",
       "    </tr>\n",
       "    <tr>\n",
       "      <th>month of visit</th>\n",
       "      <td>int64</td>\n",
       "    </tr>\n",
       "    <tr>\n",
       "      <th>weekend visit</th>\n",
       "      <td>int64</td>\n",
       "    </tr>\n",
       "    <tr>\n",
       "      <th>visit hour</th>\n",
       "      <td>int64</td>\n",
       "    </tr>\n",
       "    <tr>\n",
       "      <th>Transaction</th>\n",
       "      <td>bool</td>\n",
       "    </tr>\n",
       "  </tbody>\n",
       "</table>\n",
       "</div>"
      ],
      "text/plain": [
       "                                             0\n",
       "visitNumber                              int64\n",
       "date                            datetime64[ns]\n",
       "visitStartTime                           int64\n",
       "totals_bounces                           int64\n",
       "totals_pageviews                       float64\n",
       "totals_timeOnSite                      float64\n",
       "totals_totalTransactionRevenue         float64\n",
       "totals_transactions                    float64\n",
       "trafficSource_source                    object\n",
       "trafficSource_medium                    object\n",
       "trafficSource_campaign                  object\n",
       "device_deviceCategory                   object\n",
       "device_operatingSystem                  object\n",
       "geoNetwork_city                         object\n",
       "channelGrouping                         object\n",
       "month of visit                           int64\n",
       "weekend visit                            int64\n",
       "visit hour                               int64\n",
       "Transaction                               bool"
      ]
     },
     "execution_count": 31,
     "metadata": {},
     "output_type": "execute_result"
    }
   ],
   "source": [
    "pd.DataFrame(train_data.dtypes)"
   ]
  },
  {
   "cell_type": "code",
   "execution_count": 32,
   "metadata": {},
   "outputs": [],
   "source": [
    "\n",
    "numerical_features = ['visitNumber','totals_bounces','totals_pageviews' , 'totals_timeOnSite']\n",
    "nominal_features = ['trafficSource_source','trafficSource_medium','trafficSource_campaign','device_deviceCategory','device_operatingSystem','channelGrouping','Transaction' ,'visit hour', 'month of visit' , 'weekend visit']\n"
   ]
  },
  {
   "cell_type": "code",
   "execution_count": 33,
   "metadata": {
    "scrolled": true
   },
   "outputs": [
    {
     "data": {
      "text/plain": [
       "<matplotlib.axes._subplots.AxesSubplot at 0x270d59a68d0>"
      ]
     },
     "execution_count": 33,
     "metadata": {},
     "output_type": "execute_result"
    },
    {
     "data": {
      "image/png": "[encoded data removed]",
      "text/plain": [
       "<Figure size 432x288 with 2 Axes>"
      ]
     },
     "metadata": {
      "needs_background": "light"
     },
     "output_type": "display_data"
    }
   ],
   "source": [
    "corrmatrix = train_data[numerical_features].corr()\n",
    "sns.heatmap(corrmatrix)"
   ]
  },
  {
   "cell_type": "code",
   "execution_count": 34,
   "metadata": {},
   "outputs": [
    {
     "name": "stderr",
     "output_type": "stream",
     "text": [
      "C:\\ProgramData\\Anaconda3\\lib\\site-packages\\matplotlib\\figure.py:98: MatplotlibDeprecationWarning: \n",
      "Adding an axes using the same arguments as a previous axes currently reuses the earlier instance.  In a future version, a new instance will always be created and returned.  Meanwhile, this warning can be suppressed, and the future behavior ensured, by passing a unique label to each axes instance.\n",
      "  \"Adding an axes using the same arguments as a previous axes \"\n",
      "C:\\ProgramData\\Anaconda3\\lib\\site-packages\\statsmodels\\nonparametric\\kde.py:488: RuntimeWarning: invalid value encountered in true_divide\n",
      "  binned = fast_linbin(X, a, b, gridsize) / (delta * nobs)\n",
      "C:\\ProgramData\\Anaconda3\\lib\\site-packages\\statsmodels\\nonparametric\\kdetools.py:34: RuntimeWarning: invalid value encountered in double_scalars\n",
      "  FAC1 = 2*(np.pi*bw/RANGE)**2\n",
      "C:\\ProgramData\\Anaconda3\\lib\\site-packages\\matplotlib\\figure.py:98: MatplotlibDeprecationWarning: \n",
      "Adding an axes using the same arguments as a previous axes currently reuses the earlier instance.  In a future version, a new instance will always be created and returned.  Meanwhile, this warning can be suppressed, and the future behavior ensured, by passing a unique label to each axes instance.\n",
      "  \"Adding an axes using the same arguments as a previous axes \"\n",
      "C:\\ProgramData\\Anaconda3\\lib\\site-packages\\matplotlib\\figure.py:98: MatplotlibDeprecationWarning: \n",
      "Adding an axes using the same arguments as a previous axes currently reuses the earlier instance.  In a future version, a new instance will always be created and returned.  Meanwhile, this warning can be suppressed, and the future behavior ensured, by passing a unique label to each axes instance.\n",
      "  \"Adding an axes using the same arguments as a previous axes \"\n",
      "C:\\ProgramData\\Anaconda3\\lib\\site-packages\\matplotlib\\figure.py:98: MatplotlibDeprecationWarning: \n",
      "Adding an axes using the same arguments as a previous axes currently reuses the earlier instance.  In a future version, a new instance will always be created and returned.  Meanwhile, this warning can be suppressed, and the future behavior ensured, by passing a unique label to each axes instance.\n",
      "  \"Adding an axes using the same arguments as a previous axes \"\n"
     ]
    },
    {
     "data": {
      "image/png": "[encoded data removed]",
      "text/plain": [
       "<Figure size 1008x720 with 4 Axes>"
      ]
     },
     "metadata": {
      "needs_background": "light"
     },
     "output_type": "display_data"
    },
    {
     "data": {
      "image/png": "[encoded data removed]",
      "text/plain": [
       "<Figure size 1008x720 with 4 Axes>"
      ]
     },
     "metadata": {
      "needs_background": "light"
     },
     "output_type": "display_data"
    },
    {
     "data": {
      "image/png": "[encoded data removed]",
      "text/plain": [
       "<Figure size 1008x720 with 4 Axes>"
      ]
     },
     "metadata": {
      "needs_background": "light"
     },
     "output_type": "display_data"
    },
    {
     "data": {
      "image/png": "[encoded data removed]",
      "text/plain": [
       "<Figure size 1008x720 with 4 Axes>"
      ]
     },
     "metadata": {
      "needs_background": "light"
     },
     "output_type": "display_data"
    }
   ],
   "source": [
    "for column in numerical_features:\n",
    "    fig = plt.figure(figsize=(14,10))\n",
    "    sns.distplot(train_data[column] , ax = plt.subplot(2,2,1))\n",
    "    plt.xlabel(column)\n",
    "    plt.ylabel(\"Frequency\")\n",
    "    sns.distplot(train_data[train_data[\"Transaction\"]==0][column], color = \"black\" , hist = False , ax= plt.subplot(2,2,2))\n",
    "    plt.xlabel(column)\n",
    "    plt.ylabel(\"Frequency\")\n",
    "    sns.distplot(train_data[train_data[\"Transaction\"]==1][column] , color = \"green\" , hist = False ,  ax= plt.subplot(2,2,2))\n",
    "    plt.xlabel(column)\n",
    "    plt.ylabel(\"Frequency\")\n",
    "    sns.barplot(x=\"Transaction\" , y= column , data = train_data , ax= plt.subplot(2,2,3))\n",
    "    plt.xlabel(\"Transaction -- no/yes\")\n",
    "    sns.boxplot(x=\"Transaction\" , y= column , data = train_data , ax= plt.subplot(2,2,4))\n",
    "    plt.xlabel(\"Transaction -- no/yes\")"
   ]
  },
  {
   "cell_type": "code",
   "execution_count": 35,
   "metadata": {},
   "outputs": [],
   "source": [
    "df.drop([\"totals_totalTransactionRevenue\" , \"totals_transactions\" , \"date\",\"visitStartTime\"],  axis=1 , inplace = True)"
   ]
  },
  {
   "cell_type": "code",
   "execution_count": 36,
   "metadata": {
    "scrolled": true
   },
   "outputs": [
    {
     "data": {
      "text/html": [
       "<div>\n",
       "<style scoped>\n",
       "    .dataframe tbody tr th:only-of-type {\n",
       "        vertical-align: middle;\n",
       "    }\n",
       "\n",
       "    .dataframe tbody tr th {\n",
       "        vertical-align: top;\n",
       "    }\n",
       "\n",
       "    .dataframe thead th {\n",
       "        text-align: right;\n",
       "    }\n",
       "</style>\n",
       "<table border=\"1\" class=\"dataframe\">\n",
       "  <thead>\n",
       "    <tr style=\"text-align: right;\">\n",
       "      <th></th>\n",
       "      <th>visitNumber</th>\n",
       "      <th>totals_bounces</th>\n",
       "      <th>totals_pageviews</th>\n",
       "      <th>totals_timeOnSite</th>\n",
       "      <th>trafficSource_source</th>\n",
       "      <th>trafficSource_medium</th>\n",
       "      <th>trafficSource_campaign</th>\n",
       "      <th>device_deviceCategory</th>\n",
       "      <th>device_operatingSystem</th>\n",
       "      <th>geoNetwork_city</th>\n",
       "      <th>channelGrouping</th>\n",
       "      <th>month of visit</th>\n",
       "      <th>weekend visit</th>\n",
       "      <th>visit hour</th>\n",
       "      <th>Transaction</th>\n",
       "    </tr>\n",
       "    <tr>\n",
       "      <th>fullVisitorId</th>\n",
       "      <th></th>\n",
       "      <th></th>\n",
       "      <th></th>\n",
       "      <th></th>\n",
       "      <th></th>\n",
       "      <th></th>\n",
       "      <th></th>\n",
       "      <th></th>\n",
       "      <th></th>\n",
       "      <th></th>\n",
       "      <th></th>\n",
       "      <th></th>\n",
       "      <th></th>\n",
       "      <th></th>\n",
       "      <th></th>\n",
       "    </tr>\n",
       "  </thead>\n",
       "  <tbody>\n",
       "    <tr>\n",
       "      <th>27376579751715</th>\n",
       "      <td>1</td>\n",
       "      <td>2</td>\n",
       "      <td>5.0</td>\n",
       "      <td>49.000000</td>\n",
       "      <td>(direct)</td>\n",
       "      <td>(none)</td>\n",
       "      <td>(not set)</td>\n",
       "      <td>desktop</td>\n",
       "      <td>Macintosh</td>\n",
       "      <td>not available in demo dataset</td>\n",
       "      <td>Organic Search</td>\n",
       "      <td>2</td>\n",
       "      <td>1</td>\n",
       "      <td>2</td>\n",
       "      <td>False</td>\n",
       "    </tr>\n",
       "    <tr>\n",
       "      <th>39460501403861</th>\n",
       "      <td>1</td>\n",
       "      <td>2</td>\n",
       "      <td>2.0</td>\n",
       "      <td>99.000000</td>\n",
       "      <td>youtube.com</td>\n",
       "      <td>referral</td>\n",
       "      <td>(not set)</td>\n",
       "      <td>desktop</td>\n",
       "      <td>Windows</td>\n",
       "      <td>not available in demo dataset</td>\n",
       "      <td>Social</td>\n",
       "      <td>3</td>\n",
       "      <td>0</td>\n",
       "      <td>15</td>\n",
       "      <td>False</td>\n",
       "    </tr>\n",
       "    <tr>\n",
       "      <th>40862739425590</th>\n",
       "      <td>1</td>\n",
       "      <td>2</td>\n",
       "      <td>2.0</td>\n",
       "      <td>14.000000</td>\n",
       "      <td>(direct)</td>\n",
       "      <td>(none)</td>\n",
       "      <td>(not set)</td>\n",
       "      <td>desktop</td>\n",
       "      <td>Macintosh</td>\n",
       "      <td>Oakland</td>\n",
       "      <td>Paid Search</td>\n",
       "      <td>2</td>\n",
       "      <td>1</td>\n",
       "      <td>18</td>\n",
       "      <td>False</td>\n",
       "    </tr>\n",
       "    <tr>\n",
       "      <th>40862739425590</th>\n",
       "      <td>2</td>\n",
       "      <td>2</td>\n",
       "      <td>3.0</td>\n",
       "      <td>35.000000</td>\n",
       "      <td>(direct)</td>\n",
       "      <td>(none)</td>\n",
       "      <td>(not set)</td>\n",
       "      <td>desktop</td>\n",
       "      <td>Macintosh</td>\n",
       "      <td>Oakland</td>\n",
       "      <td>Paid Search</td>\n",
       "      <td>2</td>\n",
       "      <td>1</td>\n",
       "      <td>18</td>\n",
       "      <td>False</td>\n",
       "    </tr>\n",
       "    <tr>\n",
       "      <th>62267706107999</th>\n",
       "      <td>1</td>\n",
       "      <td>2</td>\n",
       "      <td>1.0</td>\n",
       "      <td>66.158531</td>\n",
       "      <td>Partners</td>\n",
       "      <td>affiliate</td>\n",
       "      <td>Data Share Promo</td>\n",
       "      <td>desktop</td>\n",
       "      <td>Windows</td>\n",
       "      <td>not available in demo dataset</td>\n",
       "      <td>Affiliates</td>\n",
       "      <td>7</td>\n",
       "      <td>1</td>\n",
       "      <td>0</td>\n",
       "      <td>False</td>\n",
       "    </tr>\n",
       "  </tbody>\n",
       "</table>\n",
       "</div>"
      ],
      "text/plain": [
       "                visitNumber  totals_bounces  totals_pageviews  \\\n",
       "fullVisitorId                                                   \n",
       "27376579751715            1               2               5.0   \n",
       "39460501403861            1               2               2.0   \n",
       "40862739425590            1               2               2.0   \n",
       "40862739425590            2               2               3.0   \n",
       "62267706107999            1               2               1.0   \n",
       "\n",
       "                totals_timeOnSite trafficSource_source trafficSource_medium  \\\n",
       "fullVisitorId                                                                 \n",
       "27376579751715          49.000000             (direct)               (none)   \n",
       "39460501403861          99.000000          youtube.com             referral   \n",
       "40862739425590          14.000000             (direct)               (none)   \n",
       "40862739425590          35.000000             (direct)               (none)   \n",
       "62267706107999          66.158531             Partners            affiliate   \n",
       "\n",
       "               trafficSource_campaign device_deviceCategory  \\\n",
       "fullVisitorId                                                 \n",
       "27376579751715              (not set)               desktop   \n",
       "39460501403861              (not set)               desktop   \n",
       "40862739425590              (not set)               desktop   \n",
       "40862739425590              (not set)               desktop   \n",
       "62267706107999       Data Share Promo               desktop   \n",
       "\n",
       "               device_operatingSystem                geoNetwork_city  \\\n",
       "fullVisitorId                                                          \n",
       "27376579751715              Macintosh  not available in demo dataset   \n",
       "39460501403861                Windows  not available in demo dataset   \n",
       "40862739425590              Macintosh                        Oakland   \n",
       "40862739425590              Macintosh                        Oakland   \n",
       "62267706107999                Windows  not available in demo dataset   \n",
       "\n",
       "               channelGrouping  month of visit  weekend visit  visit hour  \\\n",
       "fullVisitorId                                                               \n",
       "27376579751715  Organic Search               2              1           2   \n",
       "39460501403861          Social               3              0          15   \n",
       "40862739425590     Paid Search               2              1          18   \n",
       "40862739425590     Paid Search               2              1          18   \n",
       "62267706107999      Affiliates               7              1           0   \n",
       "\n",
       "                Transaction  \n",
       "fullVisitorId                \n",
       "27376579751715        False  \n",
       "39460501403861        False  \n",
       "40862739425590        False  \n",
       "40862739425590        False  \n",
       "62267706107999        False  "
      ]
     },
     "execution_count": 36,
     "metadata": {},
     "output_type": "execute_result"
    }
   ],
   "source": [
    "df.head()"
   ]
  },
  {
   "cell_type": "code",
   "execution_count": 37,
   "metadata": {},
   "outputs": [],
   "source": [
    "dummy = pd.get_dummies(df[['trafficSource_source','trafficSource_medium','trafficSource_campaign','device_deviceCategory','device_operatingSystem','channelGrouping' , 'month of visit','weekend visit','visit hour']] , drop_first = True)"
   ]
  },
  {
   "cell_type": "code",
   "execution_count": 38,
   "metadata": {
    "scrolled": true
   },
   "outputs": [
    {
     "data": {
      "text/html": [
       "<div>\n",
       "<style scoped>\n",
       "    .dataframe tbody tr th:only-of-type {\n",
       "        vertical-align: middle;\n",
       "    }\n",
       "\n",
       "    .dataframe tbody tr th {\n",
       "        vertical-align: top;\n",
       "    }\n",
       "\n",
       "    .dataframe thead th {\n",
       "        text-align: right;\n",
       "    }\n",
       "</style>\n",
       "<table border=\"1\" class=\"dataframe\">\n",
       "  <thead>\n",
       "    <tr style=\"text-align: right;\">\n",
       "      <th></th>\n",
       "      <th>month of visit</th>\n",
       "      <th>weekend visit</th>\n",
       "      <th>visit hour</th>\n",
       "      <th>trafficSource_source_(not set)</th>\n",
       "      <th>trafficSource_source_9to5google.com</th>\n",
       "      <th>trafficSource_source_Partners</th>\n",
       "      <th>trafficSource_source_ad.doubleclick.net</th>\n",
       "      <th>trafficSource_source_admin.globalaccess.com</th>\n",
       "      <th>trafficSource_source_adwords.google.com</th>\n",
       "      <th>trafficSource_source_amazon.com</th>\n",
       "      <th>...</th>\n",
       "      <th>device_operatingSystem_Windows Phone</th>\n",
       "      <th>device_operatingSystem_Xbox</th>\n",
       "      <th>device_operatingSystem_iOS</th>\n",
       "      <th>channelGrouping_Affiliates</th>\n",
       "      <th>channelGrouping_Direct</th>\n",
       "      <th>channelGrouping_Display</th>\n",
       "      <th>channelGrouping_Organic Search</th>\n",
       "      <th>channelGrouping_Paid Search</th>\n",
       "      <th>channelGrouping_Referral</th>\n",
       "      <th>channelGrouping_Social</th>\n",
       "    </tr>\n",
       "    <tr>\n",
       "      <th>fullVisitorId</th>\n",
       "      <th></th>\n",
       "      <th></th>\n",
       "      <th></th>\n",
       "      <th></th>\n",
       "      <th></th>\n",
       "      <th></th>\n",
       "      <th></th>\n",
       "      <th></th>\n",
       "      <th></th>\n",
       "      <th></th>\n",
       "      <th></th>\n",
       "      <th></th>\n",
       "      <th></th>\n",
       "      <th></th>\n",
       "      <th></th>\n",
       "      <th></th>\n",
       "      <th></th>\n",
       "      <th></th>\n",
       "      <th></th>\n",
       "      <th></th>\n",
       "      <th></th>\n",
       "    </tr>\n",
       "  </thead>\n",
       "  <tbody>\n",
       "    <tr>\n",
       "      <th>27376579751715</th>\n",
       "      <td>2</td>\n",
       "      <td>1</td>\n",
       "      <td>2</td>\n",
       "      <td>0</td>\n",
       "      <td>0</td>\n",
       "      <td>0</td>\n",
       "      <td>0</td>\n",
       "      <td>0</td>\n",
       "      <td>0</td>\n",
       "      <td>0</td>\n",
       "      <td>...</td>\n",
       "      <td>0</td>\n",
       "      <td>0</td>\n",
       "      <td>0</td>\n",
       "      <td>0</td>\n",
       "      <td>0</td>\n",
       "      <td>0</td>\n",
       "      <td>1</td>\n",
       "      <td>0</td>\n",
       "      <td>0</td>\n",
       "      <td>0</td>\n",
       "    </tr>\n",
       "    <tr>\n",
       "      <th>39460501403861</th>\n",
       "      <td>3</td>\n",
       "      <td>0</td>\n",
       "      <td>15</td>\n",
       "      <td>0</td>\n",
       "      <td>0</td>\n",
       "      <td>0</td>\n",
       "      <td>0</td>\n",
       "      <td>0</td>\n",
       "      <td>0</td>\n",
       "      <td>0</td>\n",
       "      <td>...</td>\n",
       "      <td>0</td>\n",
       "      <td>0</td>\n",
       "      <td>0</td>\n",
       "      <td>0</td>\n",
       "      <td>0</td>\n",
       "      <td>0</td>\n",
       "      <td>0</td>\n",
       "      <td>0</td>\n",
       "      <td>0</td>\n",
       "      <td>1</td>\n",
       "    </tr>\n",
       "    <tr>\n",
       "      <th>40862739425590</th>\n",
       "      <td>2</td>\n",
       "      <td>1</td>\n",
       "      <td>18</td>\n",
       "      <td>0</td>\n",
       "      <td>0</td>\n",
       "      <td>0</td>\n",
       "      <td>0</td>\n",
       "      <td>0</td>\n",
       "      <td>0</td>\n",
       "      <td>0</td>\n",
       "      <td>...</td>\n",
       "      <td>0</td>\n",
       "      <td>0</td>\n",
       "      <td>0</td>\n",
       "      <td>0</td>\n",
       "      <td>0</td>\n",
       "      <td>0</td>\n",
       "      <td>0</td>\n",
       "      <td>1</td>\n",
       "      <td>0</td>\n",
       "      <td>0</td>\n",
       "    </tr>\n",
       "    <tr>\n",
       "      <th>40862739425590</th>\n",
       "      <td>2</td>\n",
       "      <td>1</td>\n",
       "      <td>18</td>\n",
       "      <td>0</td>\n",
       "      <td>0</td>\n",
       "      <td>0</td>\n",
       "      <td>0</td>\n",
       "      <td>0</td>\n",
       "      <td>0</td>\n",
       "      <td>0</td>\n",
       "      <td>...</td>\n",
       "      <td>0</td>\n",
       "      <td>0</td>\n",
       "      <td>0</td>\n",
       "      <td>0</td>\n",
       "      <td>0</td>\n",
       "      <td>0</td>\n",
       "      <td>0</td>\n",
       "      <td>1</td>\n",
       "      <td>0</td>\n",
       "      <td>0</td>\n",
       "    </tr>\n",
       "    <tr>\n",
       "      <th>62267706107999</th>\n",
       "      <td>7</td>\n",
       "      <td>1</td>\n",
       "      <td>0</td>\n",
       "      <td>0</td>\n",
       "      <td>0</td>\n",
       "      <td>1</td>\n",
       "      <td>0</td>\n",
       "      <td>0</td>\n",
       "      <td>0</td>\n",
       "      <td>0</td>\n",
       "      <td>...</td>\n",
       "      <td>0</td>\n",
       "      <td>0</td>\n",
       "      <td>0</td>\n",
       "      <td>1</td>\n",
       "      <td>0</td>\n",
       "      <td>0</td>\n",
       "      <td>0</td>\n",
       "      <td>0</td>\n",
       "      <td>0</td>\n",
       "      <td>0</td>\n",
       "    </tr>\n",
       "  </tbody>\n",
       "</table>\n",
       "<p>5 rows × 263 columns</p>\n",
       "</div>"
      ],
      "text/plain": [
       "                month of visit  weekend visit  visit hour  \\\n",
       "fullVisitorId                                               \n",
       "27376579751715               2              1           2   \n",
       "39460501403861               3              0          15   \n",
       "40862739425590               2              1          18   \n",
       "40862739425590               2              1          18   \n",
       "62267706107999               7              1           0   \n",
       "\n",
       "                trafficSource_source_(not set)  \\\n",
       "fullVisitorId                                    \n",
       "27376579751715                               0   \n",
       "39460501403861                               0   \n",
       "40862739425590                               0   \n",
       "40862739425590                               0   \n",
       "62267706107999                               0   \n",
       "\n",
       "                trafficSource_source_9to5google.com  \\\n",
       "fullVisitorId                                         \n",
       "27376579751715                                    0   \n",
       "39460501403861                                    0   \n",
       "40862739425590                                    0   \n",
       "40862739425590                                    0   \n",
       "62267706107999                                    0   \n",
       "\n",
       "                trafficSource_source_Partners  \\\n",
       "fullVisitorId                                   \n",
       "27376579751715                              0   \n",
       "39460501403861                              0   \n",
       "40862739425590                              0   \n",
       "40862739425590                              0   \n",
       "62267706107999                              1   \n",
       "\n",
       "                trafficSource_source_ad.doubleclick.net  \\\n",
       "fullVisitorId                                             \n",
       "27376579751715                                        0   \n",
       "39460501403861                                        0   \n",
       "40862739425590                                        0   \n",
       "40862739425590                                        0   \n",
       "62267706107999                                        0   \n",
       "\n",
       "                trafficSource_source_admin.globalaccess.com  \\\n",
       "fullVisitorId                                                 \n",
       "27376579751715                                            0   \n",
       "39460501403861                                            0   \n",
       "40862739425590                                            0   \n",
       "40862739425590                                            0   \n",
       "62267706107999                                            0   \n",
       "\n",
       "                trafficSource_source_adwords.google.com  \\\n",
       "fullVisitorId                                             \n",
       "27376579751715                                        0   \n",
       "39460501403861                                        0   \n",
       "40862739425590                                        0   \n",
       "40862739425590                                        0   \n",
       "62267706107999                                        0   \n",
       "\n",
       "                trafficSource_source_amazon.com  ...  \\\n",
       "fullVisitorId                                    ...   \n",
       "27376579751715                                0  ...   \n",
       "39460501403861                                0  ...   \n",
       "40862739425590                                0  ...   \n",
       "40862739425590                                0  ...   \n",
       "62267706107999                                0  ...   \n",
       "\n",
       "                device_operatingSystem_Windows Phone  \\\n",
       "fullVisitorId                                          \n",
       "27376579751715                                     0   \n",
       "39460501403861                                     0   \n",
       "40862739425590                                     0   \n",
       "40862739425590                                     0   \n",
       "62267706107999                                     0   \n",
       "\n",
       "                device_operatingSystem_Xbox  device_operatingSystem_iOS  \\\n",
       "fullVisitorId                                                             \n",
       "27376579751715                            0                           0   \n",
       "39460501403861                            0                           0   \n",
       "40862739425590                            0                           0   \n",
       "40862739425590                            0                           0   \n",
       "62267706107999                            0                           0   \n",
       "\n",
       "                channelGrouping_Affiliates  channelGrouping_Direct  \\\n",
       "fullVisitorId                                                        \n",
       "27376579751715                           0                       0   \n",
       "39460501403861                           0                       0   \n",
       "40862739425590                           0                       0   \n",
       "40862739425590                           0                       0   \n",
       "62267706107999                           1                       0   \n",
       "\n",
       "                channelGrouping_Display  channelGrouping_Organic Search  \\\n",
       "fullVisitorId                                                             \n",
       "27376579751715                        0                               1   \n",
       "39460501403861                        0                               0   \n",
       "40862739425590                        0                               0   \n",
       "40862739425590                        0                               0   \n",
       "62267706107999                        0                               0   \n",
       "\n",
       "                channelGrouping_Paid Search  channelGrouping_Referral  \\\n",
       "fullVisitorId                                                           \n",
       "27376579751715                            0                         0   \n",
       "39460501403861                            0                         0   \n",
       "40862739425590                            1                         0   \n",
       "40862739425590                            1                         0   \n",
       "62267706107999                            0                         0   \n",
       "\n",
       "                channelGrouping_Social  \n",
       "fullVisitorId                           \n",
       "27376579751715                       0  \n",
       "39460501403861                       1  \n",
       "40862739425590                       0  \n",
       "40862739425590                       0  \n",
       "62267706107999                       0  \n",
       "\n",
       "[5 rows x 263 columns]"
      ]
     },
     "execution_count": 38,
     "metadata": {},
     "output_type": "execute_result"
    }
   ],
   "source": [
    "dummy.head()"
   ]
  },
  {
   "cell_type": "code",
   "execution_count": 39,
   "metadata": {},
   "outputs": [],
   "source": [
    "df.drop('geoNetwork_city', axis = 1 , inplace = True)"
   ]
  },
  {
   "cell_type": "code",
   "execution_count": 40,
   "metadata": {},
   "outputs": [],
   "source": [
    "df = pd.concat([df , dummy] , axis = 1)"
   ]
  },
  {
   "cell_type": "code",
   "execution_count": 41,
   "metadata": {},
   "outputs": [],
   "source": [
    "df.drop(['trafficSource_source','trafficSource_medium','trafficSource_campaign','device_deviceCategory','device_operatingSystem','channelGrouping' , 'month of visit','weekend visit','visit hour'], axis = 1 , inplace = True)"
   ]
  },
  {
   "cell_type": "code",
   "execution_count": 42,
   "metadata": {},
   "outputs": [],
   "source": [
    "from sklearn import preprocessing\n",
    "\n",
    "label_encoder = preprocessing.LabelEncoder() \n",
    "  \n",
    "# Encode labels in column 'species'. \n",
    "df['Transaction']= label_encoder.fit_transform(df['Transaction']) "
   ]
  },
  {
   "cell_type": "code",
   "execution_count": 43,
   "metadata": {
    "scrolled": false
   },
   "outputs": [
    {
     "data": {
      "text/plain": [
       "0    458344\n",
       "1      6308\n",
       "Name: Transaction, dtype: int64"
      ]
     },
     "execution_count": 43,
     "metadata": {},
     "output_type": "execute_result"
    }
   ],
   "source": [
    "df['Transaction'].value_counts()"
   ]
  },
  {
   "cell_type": "code",
   "execution_count": 44,
   "metadata": {
    "scrolled": true
   },
   "outputs": [
    {
     "data": {
      "image/png": "[encoded data removed]",
      "text/plain": [
       "<Figure size 432x288 with 1 Axes>"
      ]
     },
     "metadata": {
      "needs_background": "light"
     },
     "output_type": "display_data"
    }
   ],
   "source": [
    "#target exploration\n",
    "sns.countplot(df.Transaction)\n",
    "plt.xlabel('Transaction')\n",
    "plt.ylabel('Number of occurences')\n",
    "plt.show()"
   ]
  },
  {
   "cell_type": "markdown",
   "metadata": {},
   "source": [
    "#DECISION TREE MODELLING"
   ]
  },
  {
   "cell_type": "code",
   "execution_count": 45,
   "metadata": {},
   "outputs": [],
   "source": [
    "# Train-Test split: 20% test data\n",
    "X = df.drop('Transaction', 1)\n",
    "y = df.Transaction\n",
    "data_train, data_test, label_train, label_test = train_test_split(X, y, test_size = 0.3, random_state = 50)"
   ]
  },
  {
   "cell_type": "code",
   "execution_count": 46,
   "metadata": {
    "scrolled": false
   },
   "outputs": [
    {
     "name": "stderr",
     "output_type": "stream",
     "text": [
      "Using TensorFlow backend.\n"
     ]
    }
   ],
   "source": [
    "from imblearn.over_sampling import RandomOverSampler"
   ]
  },
  {
   "cell_type": "code",
   "execution_count": 47,
   "metadata": {},
   "outputs": [],
   "source": [
    "method = RandomOverSampler()"
   ]
  },
  {
   "cell_type": "code",
   "execution_count": 48,
   "metadata": {},
   "outputs": [],
   "source": [
    "X_resampled , y_resampled = method.fit_sample(X,y)\n",
    "data_train, data_test, label_train, label_test = train_test_split(X_resampled, y_resampled, test_size = 0.3, random_state = 50)"
   ]
  },
  {
   "cell_type": "code",
   "execution_count": 49,
   "metadata": {},
   "outputs": [
    {
     "name": "stdout",
     "output_type": "stream",
     "text": [
      "Training score:  0.9499548841246663\n",
      "Testing score:  0.9502194489594811\n"
     ]
    }
   ],
   "source": [
    "# Decision tree with depth = 2\n",
    "dt2 = tree.DecisionTreeClassifier(random_state=1, max_depth=2)\n",
    "dt2.fit(data_train, label_train)\n",
    "dt2_score_train = dt2.score(data_train, label_train)\n",
    "print(\"Training score: \",dt2_score_train)\n",
    "dt2_score_test = dt2.score(data_test, label_test)\n",
    "print(\"Testing score: \",dt2_score_test)"
   ]
  },
  {
   "cell_type": "code",
   "execution_count": 50,
   "metadata": {},
   "outputs": [
    {
     "name": "stdout",
     "output_type": "stream",
     "text": [
      "Training score:  0.9512717378261161\n",
      "Testing score:  0.9514448723123411\n"
     ]
    }
   ],
   "source": [
    "# Decision tree with depth = 3\n",
    "dt3 = tree.DecisionTreeClassifier(random_state=1, max_depth=3)\n",
    "dt3.fit(data_train, label_train)\n",
    "dt3_score_train = dt3.score(data_train, label_train)\n",
    "print(\"Training score: \",dt3_score_train)\n",
    "dt3_score_test = dt3.score(data_test, label_test)\n",
    "print(\"Testing score: \",dt3_score_test)"
   ]
  },
  {
   "cell_type": "code",
   "execution_count": 51,
   "metadata": {},
   "outputs": [
    {
     "name": "stdout",
     "output_type": "stream",
     "text": [
      "Training score:  0.9552316493709491\n",
      "Testing score:  0.9556811281167389\n"
     ]
    }
   ],
   "source": [
    "# Decision tree with depth = 4\n",
    "dt4 = tree.DecisionTreeClassifier(random_state=1, max_depth=4)\n",
    "dt4.fit(data_train, label_train)\n",
    "dt4_score_train = dt4.score(data_train, label_train)\n",
    "print(\"Training score: \",dt4_score_train)\n",
    "dt4_score_test = dt4.score(data_test, label_test)\n",
    "print(\"Testing score: \",dt4_score_test)"
   ]
  },
  {
   "cell_type": "code",
   "execution_count": 52,
   "metadata": {},
   "outputs": [
    {
     "name": "stdout",
     "output_type": "stream",
     "text": [
      "Training score:  0.9579370434842235\n",
      "Testing score:  0.9583246971895261\n"
     ]
    }
   ],
   "source": [
    "# Decision tree with depth = 6\n",
    "dt6 = tree.DecisionTreeClassifier(random_state=1, max_depth=6)\n",
    "dt6.fit(data_train, label_train)\n",
    "dt6_score_train = dt6.score(data_train, label_train)\n",
    "print(\"Training score: \",dt6_score_train)\n",
    "dt6_score_test = dt6.score(data_test, label_test)\n",
    "print(\"Testing score: \",dt6_score_test)"
   ]
  },
  {
   "cell_type": "code",
   "execution_count": 53,
   "metadata": {},
   "outputs": [
    {
     "name": "stdout",
     "output_type": "stream",
     "text": [
      "Training score:  0.9998067575633376\n",
      "Testing score:  0.9940328791630758\n"
     ]
    }
   ],
   "source": [
    "# Decision tree: To the full depth\n",
    "dt1 = tree.DecisionTreeClassifier()\n",
    "dt1.fit(data_train, label_train)\n",
    "dt1_score_train = dt1.score(data_train, label_train)\n",
    "print(\"Training score: \", dt1_score_train)\n",
    "dt1_score_test = dt1.score(data_test, label_test)\n",
    "print(\"Testing score: \", dt1_score_test)"
   ]
  },
  {
   "cell_type": "code",
   "execution_count": 54,
   "metadata": {
    "scrolled": true
   },
   "outputs": [
    {
     "name": "stdout",
     "output_type": "stream",
     "text": [
      "depth      Training score       Testing score       \n",
      "-----      --------------       -------------       \n",
      "2        0.9499548841246663   0.9502194489594811\n",
      "3        0.9512717378261161   0.9514448723123411\n",
      "4        0.9552316493709491   0.9556811281167389\n",
      "6        0.9579370434842235   0.9583246971895261\n",
      "max      0.9998067575633376   0.9940328791630758\n"
     ]
    }
   ],
   "source": [
    "print('{:10} {:20} {:20}'.format('depth', 'Training score','Testing score'))\n",
    "print('{:10} {:20} {:20}'.format('-----', '--------------','-------------'))\n",
    "print('{:1} {:>25} {:>20}'.format(2, dt2_score_train, dt2_score_test))\n",
    "print('{:1} {:>25} {:>20}'.format(3, dt3_score_train, dt3_score_test))\n",
    "print('{:1} {:>25} {:>20}'.format(4, dt4_score_train, dt4_score_test))\n",
    "print('{:1} {:>25} {:>20}'.format(6, dt6_score_train, dt6_score_test))\n",
    "print('{:1} {:>23} {:>20}'.format(\"max\", dt1_score_train, dt1_score_test))"
   ]
  },
  {
   "cell_type": "markdown",
   "metadata": {},
   "source": [
    "It could be seen that, higher the depth, training score increases and matches perfects with the training data set. However higher the depth the tree goes, it overfit to the training data set. So it's no use keep increasing the tree depth. According to above observations, tree with a depth of 2 seems more reasonable as both training and test scores are reasonably high."
   ]
  },
  {
   "cell_type": "code",
   "execution_count": 55,
   "metadata": {},
   "outputs": [],
   "source": [
    "# Let's generate the decision tree for depth = 2\n",
    "\n",
    "features = X.columns.tolist()\n",
    "\n",
    "\n",
    "tree.export_graphviz(dt2, out_file='tree_depth_2.dot', feature_names=features)"
   ]
  }
 ],
 "metadata": {
  "kernelspec": {
   "display_name": "Python 3",
   "language": "python",
   "name": "python3"
  },
  "language_info": {
   "codemirror_mode": {
    "name": "ipython",
    "version": 3
   },
   "file_extension": ".py",
   "mimetype": "text/x-python",
   "name": "python",
   "nbconvert_exporter": "python",
   "pygments_lexer": "ipython3",
   "version": "3.7.3"
  }
 },
 "nbformat": 4,
 "nbformat_minor": 2
}
